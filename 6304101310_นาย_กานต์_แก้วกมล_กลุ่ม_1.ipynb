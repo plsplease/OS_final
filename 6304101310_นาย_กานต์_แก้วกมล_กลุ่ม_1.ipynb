{
  "nbformat": 4,
  "nbformat_minor": 0,
  "metadata": {
    "colab": {
      "provenance": [],
      "authorship_tag": "ABX9TyPPD+/bMbRhzDbu7GCLhI4N",
      "include_colab_link": true
    },
    "kernelspec": {
      "name": "python3",
      "display_name": "Python 3"
    },
    "language_info": {
      "name": "python"
    }
  },
  "cells": [
    {
      "cell_type": "markdown",
      "metadata": {
        "id": "view-in-github",
        "colab_type": "text"
      },
      "source": [
        "<a href=\"https://colab.research.google.com/github/plsplease/OS_final/blob/main/6304101310_%E0%B8%99%E0%B8%B2%E0%B8%A2_%E0%B8%81%E0%B8%B2%E0%B8%99%E0%B8%95%E0%B9%8C_%E0%B9%81%E0%B8%81%E0%B9%89%E0%B8%A7%E0%B8%81%E0%B8%A1%E0%B8%A5_%E0%B8%81%E0%B8%A5%E0%B8%B8%E0%B9%88%E0%B8%A1_1.ipynb\" target=\"_parent\"><img src=\"https://colab.research.google.com/assets/colab-badge.svg\" alt=\"Open In Colab\"/></a>"
      ]
    },
    {
      "cell_type": "code",
      "execution_count": null,
      "metadata": {
        "id": "7YslXHPTTg3U"
      },
      "outputs": [],
      "source": [
        "#นาย กานต์ แก้วกมล 6304101310"
      ]
    }
  ]
}